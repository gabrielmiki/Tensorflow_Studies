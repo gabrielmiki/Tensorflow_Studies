{
  "nbformat": 4,
  "nbformat_minor": 0,
  "metadata": {
    "colab": {
      "provenance": []
    },
    "kernelspec": {
      "name": "python3",
      "display_name": "Python 3"
    },
    "language_info": {
      "name": "python"
    },
    "accelerator": "GPU",
    "gpuClass": "standard"
  },
  "cells": [
    {
      "cell_type": "markdown",
      "source": [
        "<h1> Regression </h1>\n",
        "\n",
        "<hr>\n",
        "\n",
        "<p> \n",
        "The present project attempts to predict the median price of homes in a given Boston suburb in the mid-1970s. \n",
        "</p>"
      ],
      "metadata": {
        "id": "vhS65dJkvkRj"
      }
    },
    {
      "cell_type": "markdown",
      "source": [
        "<h2> The Dataset </h2>\n",
        "\n",
        "<hr>\n",
        "\n",
        "<p> The dataset has 506 data points, split between 404 training samples and 102 test samples, each with 13 numerical features. And each feature in the input data has a different scale. The targets are the median values of owner-occupied homes, in thousands of dollars. </p>\n",
        "<p> This dataset comes packaged with Keras. </p>\n"
      ],
      "metadata": {
        "id": "cIJ3UUCtv8j_"
      }
    },
    {
      "cell_type": "code",
      "source": [
        "from keras.datasets import boston_housing\n",
        "\n",
        "(train_data, train_labels), (test_data, test_labels) = boston_housing.load_data()"
      ],
      "metadata": {
        "id": "qisaC1h-vkCs",
        "colab": {
          "base_uri": "https://localhost:8080/"
        },
        "outputId": "261e79c6-cac3-4320-eed3-cea4b31e3cc8"
      },
      "execution_count": 1,
      "outputs": [
        {
          "output_type": "stream",
          "name": "stdout",
          "text": [
            "Downloading data from https://storage.googleapis.com/tensorflow/tf-keras-datasets/boston_housing.npz\n",
            "57026/57026 [==============================] - 0s 0us/step\n"
          ]
        }
      ]
    },
    {
      "cell_type": "code",
      "execution_count": 2,
      "metadata": {
        "colab": {
          "base_uri": "https://localhost:8080/"
        },
        "id": "Rbe1uk9QvURl",
        "outputId": "cbf62224-36d5-49b5-9088-3837a2576bd2"
      },
      "outputs": [
        {
          "output_type": "execute_result",
          "data": {
            "text/plain": [
              "(404, 13)"
            ]
          },
          "metadata": {},
          "execution_count": 2
        }
      ],
      "source": [
        "train_data.shape"
      ]
    },
    {
      "cell_type": "code",
      "source": [
        "test_data.shape"
      ],
      "metadata": {
        "colab": {
          "base_uri": "https://localhost:8080/"
        },
        "id": "jIDYj95LxKJS",
        "outputId": "dc22e107-e341-433f-ddd9-ad80f639fab7"
      },
      "execution_count": 3,
      "outputs": [
        {
          "output_type": "execute_result",
          "data": {
            "text/plain": [
              "(102, 13)"
            ]
          },
          "metadata": {},
          "execution_count": 3
        }
      ]
    },
    {
      "cell_type": "code",
      "source": [
        "train_labels[:10]"
      ],
      "metadata": {
        "colab": {
          "base_uri": "https://localhost:8080/"
        },
        "id": "rcXY22QlDDA7",
        "outputId": "8caed792-cb8e-46c2-a7f1-3230d560ffcc"
      },
      "execution_count": 4,
      "outputs": [
        {
          "output_type": "execute_result",
          "data": {
            "text/plain": [
              "array([15.2, 42.3, 50. , 21.1, 17.7, 18.5, 11.3, 15.6, 15.6, 14.4])"
            ]
          },
          "metadata": {},
          "execution_count": 4
        }
      ]
    },
    {
      "cell_type": "markdown",
      "source": [
        "<h2> Preparing the Data </h2>\n",
        "\n",
        "<hr>\n",
        "\n",
        "<p> It would be problematic to feed into a neural network values that all take wildly different ranges. The network might be able to automatically adapt to such heterogeneous data, but it would definitely make learning more difficult. A widespread best practice to deal with such data is to do feature-wise normalization: for each feature in the input data (a column in the input data matrix), you subtract the mean of the feature and divide by the standard deviation, so that the feature is centered around 0 and has a unit standard deviation. </p>\n",
        "<p> Note that the quantities used for normalizing the test data are computed using the training data. You should never use in your workflow any quantity computed on the test data, even for something as simple as data normalization. </p>"
      ],
      "metadata": {
        "id": "CyX0-VFazRQv"
      }
    },
    {
      "cell_type": "code",
      "source": [
        "mean = train_data.mean(axis=0)\n",
        "mean"
      ],
      "metadata": {
        "id": "ffj7EqoAzI7k",
        "colab": {
          "base_uri": "https://localhost:8080/"
        },
        "outputId": "df74f36e-502e-4a6a-f475-d8d46e48cdce"
      },
      "execution_count": 5,
      "outputs": [
        {
          "output_type": "execute_result",
          "data": {
            "text/plain": [
              "array([3.74511057e+00, 1.14801980e+01, 1.11044307e+01, 6.18811881e-02,\n",
              "       5.57355941e-01, 6.26708168e+00, 6.90106436e+01, 3.74027079e+00,\n",
              "       9.44059406e+00, 4.05898515e+02, 1.84759901e+01, 3.54783168e+02,\n",
              "       1.27408168e+01])"
            ]
          },
          "metadata": {},
          "execution_count": 5
        }
      ]
    },
    {
      "cell_type": "code",
      "source": [
        "train_data -= mean\n",
        "std = train_data.std(axis=0)\n",
        "train_data /= std"
      ],
      "metadata": {
        "id": "P5eGnOemE9KM"
      },
      "execution_count": 6,
      "outputs": []
    },
    {
      "cell_type": "code",
      "source": [
        "test_data -= mean\n",
        "test_data /= std"
      ],
      "metadata": {
        "id": "gSjFXMdd26lu"
      },
      "execution_count": 7,
      "outputs": []
    },
    {
      "cell_type": "markdown",
      "source": [
        "<h2> Building your network </h2>\n",
        "\n",
        "<hr>\n",
        "\n",
        "<p> In general, the less training data you have, the worse overfit- ting will be, and using a small network is one way to mitigate overfitting. </p>\n",
        "<p> The network ends with a single unit and no activation (it will be a linear layer). This is a typical setup for scalar regression (a regression where you’re trying to predict a single continuous value). </p>\n",
        "<p> Note that the model is compiled with the mse loss function—mean squared error, the square of the difference between the predictions and the targets. This is a widely used loss function for regression problems. </p>\n",
        "<p> The monitored metric is the mean absolute error (MAE). It’s the absolute value of the difference between the predictions and the targets. </p>"
      ],
      "metadata": {
        "id": "QCsB-86J5d6e"
      }
    },
    {
      "cell_type": "code",
      "source": [
        "from tensorflow.keras import Sequential, layers"
      ],
      "metadata": {
        "id": "71C7XYda7CAM"
      },
      "execution_count": 8,
      "outputs": []
    },
    {
      "cell_type": "code",
      "source": [
        "def build_model():\n",
        "  model = Sequential([\n",
        "      layers.Dense(64, activation='relu', input_shape=(train_data.shape[1],)),\n",
        "      layers.Dense(64, activation='relu'),\n",
        "      layers.Dense(1)\n",
        "  ])\n",
        "\n",
        "  model.compile(\n",
        "      loss='mse',\n",
        "      optimizer='adam',\n",
        "      metrics=['mae']\n",
        "  )\n",
        "\n",
        "  return model"
      ],
      "metadata": {
        "id": "V7XCoxXP3mI1"
      },
      "execution_count": 9,
      "outputs": []
    },
    {
      "cell_type": "markdown",
      "source": [
        "<h2> Validating </h2>\n",
        "\n",
        "<hr>\n",
        "\n",
        "<p> Because there are so few data points, the validation set would end up being very small (for instance, about 100 examples). As a consequence, the validation scores might change a lot depending on which data points you chose to use for validation and which you chose for training: the validation scores might have a high variance with regard to the validation split. </p>\n",
        "<p> The best practice in such situations is to use K-fold cross-validation. It consists of splitting the available data into K partitions (typically K = 4 or 5), instanti- ating K identical models, and training each one on K – 1 partitions while evaluating on the remaining partition. The validation score for the model used is then the average of the K validation scores obtained. </p>"
      ],
      "metadata": {
        "id": "aTtdFuP5Ahht"
      }
    },
    {
      "cell_type": "code",
      "source": [
        "import numpy as np\n",
        "\n",
        "k=4\n",
        "num_val_samples = len(train_data) // k \n",
        "num_epochs = 100\n",
        "all_scores = []"
      ],
      "metadata": {
        "id": "86vLfQex8DRR"
      },
      "execution_count": 10,
      "outputs": []
    },
    {
      "cell_type": "code",
      "source": [
        "for i in range(k):\n",
        "  print('processing fold #', i)\n",
        "  val_data = train_data[i * num_val_samples: (i + 1) * num_val_samples] \n",
        "  val_targets = train_labels[i * num_val_samples: (i + 1) * num_val_samples]\n",
        "\n",
        "  partial_train_data = np.concatenate( \n",
        "    [train_data[:i * num_val_samples],\n",
        "    train_data[(i + 1) * num_val_samples:]], axis=0)\n",
        "  \n",
        "  partial_train_targets = np.concatenate( \n",
        "    [train_labels[:i * num_val_samples],\n",
        "    train_labels[(i + 1) * num_val_samples:]], axis=0)\n",
        "  \n",
        "  # Builds the Keras model (already compiled)\n",
        "  model = build_model()\n",
        "\n",
        "  # Trains the model (in silent mode, verbose = 0)\n",
        "  model.fit(partial_train_data, \n",
        "            partial_train_targets,\n",
        "            epochs=num_epochs, \n",
        "            batch_size=1, \n",
        "            verbose=0)\n",
        "  \n",
        "  # Evaluates the model on the validation data\n",
        "  val_mse, val_mae = model.evaluate(val_data, val_targets, verbose=0)\n",
        "  all_scores.append(val_mae)"
      ],
      "metadata": {
        "colab": {
          "base_uri": "https://localhost:8080/"
        },
        "id": "KDyaZL10HwzB",
        "outputId": "f80909b5-4fcf-4d35-d27e-ae4ecf2fc79a"
      },
      "execution_count": 11,
      "outputs": [
        {
          "output_type": "stream",
          "name": "stdout",
          "text": [
            "processing fold # 0\n",
            "processing fold # 1\n",
            "processing fold # 2\n",
            "processing fold # 3\n"
          ]
        }
      ]
    },
    {
      "cell_type": "markdown",
      "source": [
        "<p> The different runs do indeed show rather different validation scores. </p>"
      ],
      "metadata": {
        "id": "qgS4rPwKW37x"
      }
    },
    {
      "cell_type": "code",
      "source": [
        "all_scores"
      ],
      "metadata": {
        "colab": {
          "base_uri": "https://localhost:8080/"
        },
        "id": "jnavV6v1W4h0",
        "outputId": "55072109-6104-41aa-afb6-6f50adaf9bac"
      },
      "execution_count": 12,
      "outputs": [
        {
          "output_type": "execute_result",
          "data": {
            "text/plain": [
              "[2.069300889968872, 2.520738363265991, 2.594773054122925, 2.2500946521759033]"
            ]
          },
          "metadata": {},
          "execution_count": 12
        }
      ]
    },
    {
      "cell_type": "code",
      "source": [
        "np.mean(all_scores)"
      ],
      "metadata": {
        "colab": {
          "base_uri": "https://localhost:8080/"
        },
        "id": "YWnakG2AXB0o",
        "outputId": "603a0da5-dd38-4395-c68e-8d5eeb7f5d6e"
      },
      "execution_count": 13,
      "outputs": [
        {
          "output_type": "execute_result",
          "data": {
            "text/plain": [
              "2.358726739883423"
            ]
          },
          "metadata": {},
          "execution_count": 13
        }
      ]
    },
    {
      "cell_type": "code",
      "source": [
        "num_epochs = 500\n",
        "all_mae_histories = []\n",
        "\n",
        "for i in range(k):\n",
        "  print('processing fold #', i)\n",
        "  val_data = train_data[i * num_val_samples: (i + 1) * num_val_samples] \n",
        "  val_targets = train_labels[i * num_val_samples: (i + 1) * num_val_samples]\n",
        "\n",
        "  partial_train_data = np.concatenate( \n",
        "    [train_data[:i * num_val_samples],\n",
        "    train_data[(i + 1) * num_val_samples:]], axis=0)\n",
        "  \n",
        "  partial_train_targets = np.concatenate( \n",
        "    [train_labels[:i * num_val_samples],\n",
        "    train_labels[(i + 1) * num_val_samples:]], axis=0)\n",
        "  \n",
        "  # Builds the Keras model (already compiled)\n",
        "  model = build_model()\n",
        "\n",
        "  # Trains the model (in silent mode, verbose = 0)\n",
        "  history = model.fit(partial_train_data, \n",
        "            partial_train_targets,\n",
        "            epochs=num_epochs, \n",
        "            batch_size=1, \n",
        "            verbose=0)\n",
        "  \n",
        "  mae_history = history.history['mae']\n",
        "  all_mae_histories.append(mae_history)"
      ],
      "metadata": {
        "colab": {
          "base_uri": "https://localhost:8080/"
        },
        "id": "Hj8o0uLSXGM1",
        "outputId": "6dc65ef3-60b8-4e30-d6aa-5af10204f7ba"
      },
      "execution_count": 16,
      "outputs": [
        {
          "output_type": "stream",
          "name": "stdout",
          "text": [
            "processing fold # 0\n",
            "processing fold # 1\n",
            "processing fold # 2\n",
            "processing fold # 3\n"
          ]
        }
      ]
    },
    {
      "cell_type": "markdown",
      "source": [
        "<h2> Building the history of successive mean K-fold validation scores </h2>\n",
        "\n",
        "<hr>"
      ],
      "metadata": {
        "id": "XZN8ZGyxAxo5"
      }
    },
    {
      "cell_type": "code",
      "source": [
        "average_mae_history = [\n",
        "    np.mean([x[i] for x in all_mae_histories]) for i in range(num_epochs)]"
      ],
      "metadata": {
        "id": "PjxLdtxsBNf2"
      },
      "execution_count": 17,
      "outputs": []
    },
    {
      "cell_type": "markdown",
      "source": [
        "<h2> Plotting the validation scores </h2>\n",
        "\n",
        "<hr>"
      ],
      "metadata": {
        "id": "NM8HZ-VJ4F1t"
      }
    },
    {
      "cell_type": "code",
      "source": [
        "import matplotlib.pyplot as plt\n",
        "plt.plot(range(1, len(average_mae_history) + 1), average_mae_history)\n",
        "plt.xlabel('Epochs')\n",
        "plt.ylabel('Validation MAE')\n",
        "plt.show()"
      ],
      "metadata": {
        "id": "iBugU-Bm4nX_",
        "colab": {
          "base_uri": "https://localhost:8080/",
          "height": 279
        },
        "outputId": "50596f95-70bf-474f-eb64-08d72bdff9fa"
      },
      "execution_count": 18,
      "outputs": [
        {
          "output_type": "display_data",
          "data": {
            "text/plain": [
              "<Figure size 432x288 with 1 Axes>"
            ],
            "image/png": "[encoded data removed]"
          },
          "metadata": {
            "needs_background": "light"
          }
        }
      ]
    },
    {
      "cell_type": "markdown",
      "source": [
        "<p> It may be a little difficult to see the plot, due to scaling issues and relatively high vari- ance. Let’s do the following: </p>\n",
        "  <ul>\n",
        "    <li> Omit the first 10 data points, which are on a different scale than the rest of the curve. </li>\n",
        "    <li> Replace each point with an exponential moving average of the previous points </li>\n",
        "  </ul>\n",
        "<p> To obtain a smooth curve. </p>"
      ],
      "metadata": {
        "id": "BzLxk0q7YIu5"
      }
    },
    {
      "cell_type": "code",
      "source": [
        "def smooth_curve(points, factor=0.9):\n",
        "  smoothed_points = []\n",
        "  for point in points:\n",
        "    if smoothed_points:\n",
        "      previous = smoothed_points[-1]\n",
        "      smoothed_points.append(previous * factor + point * (1 - factor))\n",
        "    else:\n",
        "      smoothed_points.append(point)\n",
        "  return smoothed_points"
      ],
      "metadata": {
        "id": "IQNqrv0uYbqO"
      },
      "execution_count": 22,
      "outputs": []
    },
    {
      "cell_type": "code",
      "source": [
        "smooth_mae_history = smooth_curve(average_mae_history[10:])"
      ],
      "metadata": {
        "id": "_ZnzoFcKYg8G"
      },
      "execution_count": 23,
      "outputs": []
    },
    {
      "cell_type": "code",
      "source": [
        "plt.plot(range(1, len(smooth_mae_history) + 1), smooth_mae_history)\n",
        "plt.xlabel('Epochs')\n",
        "plt.ylabel('Validation MAE')\n",
        "plt.show()"
      ],
      "metadata": {
        "id": "pjrfvmHJYjHc",
        "colab": {
          "base_uri": "https://localhost:8080/",
          "height": 279
        },
        "outputId": "f90aeac3-12fa-4670-c42a-dfef767e409d"
      },
      "execution_count": 24,
      "outputs": [
        {
          "output_type": "display_data",
          "data": {
            "text/plain": [
              "<Figure size 432x288 with 1 Axes>"
            ],
            "image/png": "[encoded data removed]"
          },
          "metadata": {
            "needs_background": "light"
          }
        }
      ]
    },
    {
      "cell_type": "markdown",
      "source": [
        "<p> According to this plot, validation MAE stops improving significantly after 80 epochs. Past that point, you start overfitting.\n",
        "Once you’re finished tuning other parameters of the model (in addition to the number of epochs, you could also adjust the size of the hidden layers), you can train a final production model on all of the training data, with the best parameters, and then look at its performance on the test data. </p>"
      ],
      "metadata": {
        "id": "tbnH1zcdYxSJ"
      }
    },
    {
      "cell_type": "markdown",
      "source": [
        "<h2> Training the final model </h2>\n",
        "\n",
        "<hr>"
      ],
      "metadata": {
        "id": "8WSZT1yY5ncR"
      }
    },
    {
      "cell_type": "code",
      "source": [
        "model = build_model()\n",
        "\n",
        "model.fit(train_data, \n",
        "          train_labels,\n",
        "          epochs=80, \n",
        "          batch_size=16, \n",
        "          verbose=0)\n",
        "\n",
        "test_mse_score, test_mae_score = model.evaluate(test_data, test_labels)"
      ],
      "metadata": {
        "id": "GslcKfRS6V7K",
        "colab": {
          "base_uri": "https://localhost:8080/"
        },
        "outputId": "eeb04181-b220-4aaa-e7b5-006699a476b0"
      },
      "execution_count": 25,
      "outputs": [
        {
          "output_type": "stream",
          "name": "stdout",
          "text": [
            "4/4 [==============================] - 0s 4ms/step - loss: 18.6479 - mae: 2.6796\n"
          ]
        }
      ]
    },
    {
      "cell_type": "code",
      "source": [
        "test_mae_score"
      ],
      "metadata": {
        "id": "ARWY5yUr6urs",
        "colab": {
          "base_uri": "https://localhost:8080/"
        },
        "outputId": "d26ec35a-8850-4b25-c492-d85cf8cf49b0"
      },
      "execution_count": 26,
      "outputs": [
        {
          "output_type": "execute_result",
          "data": {
            "text/plain": [
              "2.679565191268921"
            ]
          },
          "metadata": {},
          "execution_count": 26
        }
      ]
    },
    {
      "cell_type": "markdown",
      "source": [
        "<hr>"
      ],
      "metadata": {
        "id": "J8psi74k7WK4"
      }
    }
  ]
}